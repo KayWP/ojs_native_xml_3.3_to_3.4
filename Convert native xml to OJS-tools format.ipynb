{
 "cells": [
  {
   "cell_type": "code",
   "execution_count": 1,
   "id": "b547d06c",
   "metadata": {},
   "outputs": [],
   "source": [
    "import pandas as pd"
   ]
  },
  {
   "cell_type": "code",
   "execution_count": 2,
   "id": "db9e3a17",
   "metadata": {},
   "outputs": [],
   "source": [
    "class Author:\n",
    "    def __init__(self, first_name, last_name):\n",
    "        self.first_name = first_name\n",
    "        self.last_name = last_name"
   ]
  },
  {
   "cell_type": "code",
   "execution_count": 37,
   "id": "0f1279fa",
   "metadata": {},
   "outputs": [],
   "source": [
    "class Article:\n",
    "    def __init__(self, \n",
    "                 article_id, \n",
    "                 title, \n",
    "                 publication, \n",
    "                 abstract, \n",
    "                 base64_file, \n",
    "                 publication_date,\n",
    "                 volume, \n",
    "                 year, \n",
    "                 issue, \n",
    "                 page_number, \n",
    "                 section_title,\n",
    "                 section_policy,\n",
    "                 section_reference,\n",
    "                 doi,\n",
    "                 authors):\n",
    "        \n",
    "        self.article_id = article_id\n",
    "        self.title = title\n",
    "        self.publication = publication\n",
    "        self.abstract = abstract\n",
    "        self.base64_file = base64_file\n",
    "        self.publication_date = publication_date\n",
    "        self.volume = volume\n",
    "        self.year = year\n",
    "        self.issue = issue\n",
    "        self.page_number = page_number\n",
    "        self.section_title = section_title\n",
    "        self.section_policy = section_policy\n",
    "        self.section_reference = section_reference\n",
    "        self.doi = doi\n",
    "        self.authors = authors\n",
    "    \n",
    "    def export_authors(self):\n",
    "        #generate a dict with authors and column titles\n",
    "        amount_of_authors = len(self.authors)\n",
    "        author_id = 0\n",
    "        output = {}\n",
    "        for a in self.authors:\n",
    "            first_name_column = 'author_given_name_' + str(author_id)\n",
    "            last_name_column = 'author_family_name_' + str(author_id)\n",
    "            output[first_name_column] = [a.first_name]\n",
    "            output[last_name_column] = [a.last_name]\n",
    "            author_id += 1\n",
    "        \n",
    "        return output\n",
    "    \n",
    "    def to_row(self):\n",
    "        #function that outputs the article as a single row for a df, as a list\n",
    "        output = {'article_id': [self.article_id],\n",
    "                 'title': [self.title],\n",
    "                 'publication': [self.publication],\n",
    "                'abstract': [self.abstract],\n",
    "                'file': [self.base64_file],\n",
    "                'publication_date': [self.publication_date],\n",
    "                'volume': [self.volume],\n",
    "                'year': [self.year],\n",
    "                'issue': [self.issue],\n",
    "                'page_number': [self.page_number],\n",
    "                'section_title': [self.section_title],\n",
    "                'section_policy': [self.section_policy],\n",
    "                'section_reference': [self.section_reference],\n",
    "                'doi': [self.doi]}\n",
    "        \n",
    "        authors = self.export_authors()\n",
    "        \n",
    "        output = output | authors\n",
    "        \n",
    "        return output"
   ]
  },
  {
   "cell_type": "code",
   "execution_count": null,
   "id": "078f5222",
   "metadata": {},
   "outputs": [],
   "source": []
  }
 ],
 "metadata": {
  "kernelspec": {
   "display_name": "Python 3 (ipykernel)",
   "language": "python",
   "name": "python3"
  },
  "language_info": {
   "codemirror_mode": {
    "name": "ipython",
    "version": 3
   },
   "file_extension": ".py",
   "mimetype": "text/x-python",
   "name": "python",
   "nbconvert_exporter": "python",
   "pygments_lexer": "ipython3",
   "version": "3.10.9"
  }
 },
 "nbformat": 4,
 "nbformat_minor": 5
}
