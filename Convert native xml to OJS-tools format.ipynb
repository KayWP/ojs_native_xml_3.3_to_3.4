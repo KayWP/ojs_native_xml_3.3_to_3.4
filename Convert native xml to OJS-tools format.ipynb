{
 "cells": [
  {
   "cell_type": "code",
   "execution_count": 1,
   "id": "b61da9d4",
   "metadata": {},
   "outputs": [],
   "source": [
    "import pandas as pd"
   ]
  },
  {
   "cell_type": "code",
   "execution_count": 2,
   "id": "eafe98dc",
   "metadata": {},
   "outputs": [],
   "source": [
    "class Author:\n",
    "    def __init__(self, first_name, last_name):\n",
    "        self.first_name = first_name\n",
    "        self.last_name = last_name"
   ]
  },
  {
   "cell_type": "code",
   "execution_count": 86,
   "id": "586b391f",
   "metadata": {},
   "outputs": [],
   "source": [
    "class Article:\n",
    "    def __init__(self, \n",
    "                 article_id, \n",
    "                 title, \n",
    "                 publication, \n",
    "                 abstract, \n",
    "                 base64_file, \n",
    "                 publication_date,\n",
    "                 volume, \n",
    "                 year, \n",
    "                 issue, \n",
    "                 page_number, \n",
    "                 section_title,\n",
    "                 section_policy,\n",
    "                 section_reference,\n",
    "                 doi,\n",
    "                 authors, \n",
    "                 locale):\n",
    "        \n",
    "        self.article_id = article_id\n",
    "        self.title = title\n",
    "        self.publication = publication\n",
    "        self.abstract = abstract\n",
    "        self.base64_file = base64_file\n",
    "        self.publication_date = publication_date\n",
    "        self.volume = volume\n",
    "        self.year = year\n",
    "        self.issue = issue\n",
    "        self.page_number = page_number\n",
    "        self.section_title = section_title\n",
    "        self.section_policy = section_policy\n",
    "        self.section_reference = section_reference\n",
    "        self.doi = doi\n",
    "        self.authors = authors\n",
    "        self.locale = locale\n",
    "    \n",
    "    def export_authors(self):\n",
    "        #generate a dict with authors and column titles\n",
    "        amount_of_authors = len(self.authors)\n",
    "        author_id = 0\n",
    "        output = {}\n",
    "        for a in self.authors:\n",
    "            first_name_column = 'author_given_name_' + str(author_id)\n",
    "            last_name_column = 'author_family_name_' + str(author_id)\n",
    "            output[first_name_column] = [a.first_name]\n",
    "            output[last_name_column] = [a.last_name]\n",
    "            author_id += 1\n",
    "        \n",
    "        return output\n",
    "    \n",
    "    def to_row(self):\n",
    "        #function that outputs the article as a single row for a df, as a list\n",
    "        output = {'article_id': [self.article_id],\n",
    "                 'title': [self.title],\n",
    "                 'publication': [self.publication],\n",
    "                'abstract': [self.abstract],\n",
    "                'file': [self.base64_file],\n",
    "                'publication_date': [self.publication_date],\n",
    "                'volume': [self.volume],\n",
    "                'year': [self.year],\n",
    "                'issue': [self.issue],\n",
    "                'page_number': [self.page_number],\n",
    "                'section_title': [self.section_title],\n",
    "                'section_policy': [self.section_policy],\n",
    "                'section_reference': [self.section_reference],\n",
    "                'doi': [self.doi]}\n",
    "        \n",
    "        authors = self.export_authors()\n",
    "        \n",
    "        output = output | authors\n",
    "        \n",
    "        return output"
   ]
  },
  {
   "cell_type": "code",
   "execution_count": 157,
   "id": "b804bb3e",
   "metadata": {},
   "outputs": [],
   "source": [
    "def get_article_info(article_node, root, article_id):\n",
    "    \n",
    "    base64_file = 'placeholder'\n",
    "    \n",
    "    publications = article_node.findall('{http://pkp.sfu.ca}publication')\n",
    "    publication = publications[0]\n",
    "    \n",
    "    locale = publication.attrib['locale']\n",
    "    publication_date = publication.attrib['date_published']\n",
    "    section_reference = publication.attrib['section_ref']\n",
    "    \n",
    "    for id_node in publication.findall('{http://pkp.sfu.ca}id'):\n",
    "        if id_node.get('type') == 'doi':  # Check for the 'type' attribute\n",
    "            doi = id_node.text\n",
    "    \n",
    "    for title_node in publication.findall('{http://pkp.sfu.ca}title'):\n",
    "        if title_node.get('locale') == locale:\n",
    "            title = title_node.text\n",
    "    \n",
    "    for abstract_node in publication.findall('{http://pkp.sfu.ca}abstract'):\n",
    "        if abstract_node.get('locale') == locale:\n",
    "            abstract = abstract_node.text\n",
    "    \n",
    "    try:\n",
    "        pages = publication.findall('{http://pkp.sfu.ca}pages')[0].text\n",
    "    except IndexError:\n",
    "        pages = ''\n",
    "\n",
    "        \n",
    "    author_list = publication.findall('.//{http://pkp.sfu.ca}author')\n",
    "    authors = []\n",
    "    for a in author_list:\n",
    "        first_name = a.find('{http://pkp.sfu.ca}givenname').text\n",
    "        last_name = a.find('{http://pkp.sfu.ca}familyname').text\n",
    "        authors.append(Author(first_name, last_name))\n",
    "        \n",
    "    parent_issue = find_parent_issue(article_node, root)\n",
    "    issue_identification = parent_issue.find('{http://pkp.sfu.ca}issue_identification')\n",
    "    \n",
    "    issue = issue_identification.find('{http://pkp.sfu.ca}number').text\n",
    "    \n",
    "    year = issue_identification.find('{http://pkp.sfu.ca}year').text\n",
    "    \n",
    "    for publication_node in issue_identification.findall('{http://pkp.sfu.ca}title'):\n",
    "        if publication_node.get('locale') == locale:\n",
    "            publication = publication_node.text\n",
    "            \n",
    "    section_information = parent_issue.find('{http://pkp.sfu.ca}sections')\n",
    "    for section_node in section_information.findall('{http://pkp.sfu.ca}section'):\n",
    "        if section_node.get('ref') == section_reference:\n",
    "            for section_title_node in section_node.findall('{http://pkp.sfu.ca}title'):\n",
    "                if section_title_node.get('locale') == locale:\n",
    "                    section_title = section_title_node.text\n",
    "                    \n",
    "            for section_policy_node in section_node.findall('{http://pkp.sfu.ca}policy'):\n",
    "                if section_policy_node.get('locale') == locale:\n",
    "                    section_policy = section_policy_node.text\n",
    "                    \n",
    "    return Article(article_id, \n",
    "                 title, \n",
    "                 publication, \n",
    "                 abstract, \n",
    "                 base64_file, \n",
    "                 publication_date,\n",
    "                 year, \n",
    "                 issue, \n",
    "                 page_number, \n",
    "                 section_title,\n",
    "                 section_policy,\n",
    "                 section_reference,\n",
    "                 doi,\n",
    "                 authors, \n",
    "                 locale)"
   ]
  },
  {
   "cell_type": "code",
   "execution_count": 158,
   "id": "0900a212",
   "metadata": {},
   "outputs": [
    {
     "ename": "NameError",
     "evalue": "name 'volume' is not defined",
     "output_type": "error",
     "traceback": [
      "\u001b[1;31m---------------------------------------------------------------------------\u001b[0m",
      "\u001b[1;31mNameError\u001b[0m                                 Traceback (most recent call last)",
      "Cell \u001b[1;32mIn[158], line 1\u001b[0m\n\u001b[1;32m----> 1\u001b[0m \u001b[43mget_article_info\u001b[49m\u001b[43m(\u001b[49m\u001b[43marticles\u001b[49m\u001b[43m[\u001b[49m\u001b[38;5;241;43m0\u001b[39;49m\u001b[43m]\u001b[49m\u001b[43m,\u001b[49m\u001b[43m \u001b[49m\u001b[43mroot\u001b[49m\u001b[43m,\u001b[49m\u001b[43m \u001b[49m\u001b[38;5;241;43m1\u001b[39;49m\u001b[43m)\u001b[49m\n",
      "Cell \u001b[1;32mIn[157], line 65\u001b[0m, in \u001b[0;36mget_article_info\u001b[1;34m(article_node, root, article_id)\u001b[0m\n\u001b[0;32m     56\u001b[0m             \u001b[38;5;28;01mif\u001b[39;00m section_policy_node\u001b[38;5;241m.\u001b[39mget(\u001b[38;5;124m'\u001b[39m\u001b[38;5;124mlocale\u001b[39m\u001b[38;5;124m'\u001b[39m) \u001b[38;5;241m==\u001b[39m locale:\n\u001b[0;32m     57\u001b[0m                 section_policy \u001b[38;5;241m=\u001b[39m section_policy_node\u001b[38;5;241m.\u001b[39mtext\n\u001b[0;32m     59\u001b[0m \u001b[38;5;28;01mreturn\u001b[39;00m Article(article_id, \n\u001b[0;32m     60\u001b[0m              title, \n\u001b[0;32m     61\u001b[0m              publication, \n\u001b[0;32m     62\u001b[0m              abstract, \n\u001b[0;32m     63\u001b[0m              base64_file, \n\u001b[0;32m     64\u001b[0m              publication_date,\n\u001b[1;32m---> 65\u001b[0m              \u001b[43mvolume\u001b[49m, \n\u001b[0;32m     66\u001b[0m              year, \n\u001b[0;32m     67\u001b[0m              issue, \n\u001b[0;32m     68\u001b[0m              page_number, \n\u001b[0;32m     69\u001b[0m              section_title,\n\u001b[0;32m     70\u001b[0m              section_policy,\n\u001b[0;32m     71\u001b[0m              section_reference,\n\u001b[0;32m     72\u001b[0m              doi,\n\u001b[0;32m     73\u001b[0m              authors, \n\u001b[0;32m     74\u001b[0m              locale)\n",
      "\u001b[1;31mNameError\u001b[0m: name 'volume' is not defined"
     ]
    }
   ],
   "source": [
    "get_article_info(articles[0], root, 1)"
   ]
  },
  {
   "cell_type": "code",
   "execution_count": 53,
   "id": "0b6b4aa0",
   "metadata": {},
   "outputs": [],
   "source": [
    "import xml.etree.ElementTree as ET"
   ]
  },
  {
   "cell_type": "code",
   "execution_count": 74,
   "id": "33422b1b",
   "metadata": {},
   "outputs": [],
   "source": [
    "namespaces = {\n",
    "    'pkp': 'http://pkp.sfu.ca',  # Prefix 'pkp' mapped to namespace URL\n",
    "    'xsi': 'http://www.w3.org/2001/XMLSchema-instance'\n",
    "}"
   ]
  },
  {
   "cell_type": "code",
   "execution_count": 91,
   "id": "d77fa234",
   "metadata": {},
   "outputs": [
    {
     "data": {
      "text/plain": [
       "{'locale': 'en_US',\n",
       " 'date_submitted': '2024-05-24',\n",
       " 'status': '3',\n",
       " 'submission_progress': '0',\n",
       " 'current_publication_id': '1296',\n",
       " 'stage': 'production'}"
      ]
     },
     "execution_count": 91,
     "metadata": {},
     "output_type": "execute_result"
    }
   ],
   "source": [
    "articles[0]."
   ]
  },
  {
   "cell_type": "code",
   "execution_count": 94,
   "id": "1a59d252",
   "metadata": {},
   "outputs": [],
   "source": [
    "#an article has a publication\n",
    "publications = articles[0].findall('{http://pkp.sfu.ca}publication')"
   ]
  },
  {
   "cell_type": "code",
   "execution_count": 96,
   "id": "de58da2d",
   "metadata": {},
   "outputs": [
    {
     "data": {
      "text/plain": [
       "{'locale': 'en_US',\n",
       " 'version': '1',\n",
       " 'status': '3',\n",
       " 'url_path': '',\n",
       " 'seq': '2',\n",
       " 'date_published': '2024-06-13',\n",
       " 'section_ref': 'Film',\n",
       " 'access_status': '0',\n",
       " '{http://www.w3.org/2001/XMLSchema-instance}schemaLocation': 'http://pkp.sfu.ca native.xsd'}"
      ]
     },
     "execution_count": 96,
     "metadata": {},
     "output_type": "execute_result"
    }
   ],
   "source": [
    "publications[0].attrib"
   ]
  },
  {
   "cell_type": "code",
   "execution_count": 88,
   "id": "bd73d64a",
   "metadata": {},
   "outputs": [],
   "source": [
    "tree = ET.parse('test.xml')\n",
    "root = tree.getroot()  # Get the root element\n",
    "\n",
    "# Find all 'article' nodes using the namespace\n",
    "articles = root.findall('.//{http://pkp.sfu.ca}article')"
   ]
  },
  {
   "cell_type": "code",
   "execution_count": 85,
   "id": "5da33fab",
   "metadata": {},
   "outputs": [],
   "source": [
    "for article in articles:\n",
    "    print(article.)"
   ]
  },
  {
   "cell_type": "code",
   "execution_count": 144,
   "id": "2f491853",
   "metadata": {},
   "outputs": [],
   "source": [
    "# Function to find the parent issue of a given article node\n",
    "def find_parent_issue(article_node, root):\n",
    "    for issue in root.findall('.//{http://pkp.sfu.ca}issue'):  # Iterate through all issues\n",
    "        if article_node in issue.findall('.//{http://pkp.sfu.ca}article'):  # Check if the article is in this issue\n",
    "            return issue\n",
    "    return None"
   ]
  },
  {
   "cell_type": "code",
   "execution_count": 146,
   "id": "dc373f06",
   "metadata": {},
   "outputs": [],
   "source": [
    "x = find_parent_issue(articles[0], root)"
   ]
  },
  {
   "cell_type": "code",
   "execution_count": 147,
   "id": "b19c280c",
   "metadata": {},
   "outputs": [
    {
     "data": {
      "text/plain": [
       "{'published': '1', 'current': '0', 'access_status': '1', 'url_path': ''}"
      ]
     },
     "execution_count": 147,
     "metadata": {},
     "output_type": "execute_result"
    }
   ],
   "source": [
    "x.attrib"
   ]
  },
  {
   "cell_type": "code",
   "execution_count": 143,
   "id": "7a25422e",
   "metadata": {},
   "outputs": [
    {
     "data": {
      "text/plain": [
       "[<Element '{http://pkp.sfu.ca}issue' at 0x0000016B2FA26840>,\n",
       " <Element '{http://pkp.sfu.ca}issue' at 0x0000016B2FA2F600>]"
      ]
     },
     "execution_count": 143,
     "metadata": {},
     "output_type": "execute_result"
    }
   ],
   "source": [
    "root.findall('{http://pkp.sfu.ca}issue')"
   ]
  },
  {
   "cell_type": "code",
   "execution_count": null,
   "id": "b41e5065",
   "metadata": {},
   "outputs": [],
   "source": []
  }
 ],
 "metadata": {
  "kernelspec": {
   "display_name": "Python 3 (ipykernel)",
   "language": "python",
   "name": "python3"
  },
  "language_info": {
   "codemirror_mode": {
    "name": "ipython",
    "version": 3
   },
   "file_extension": ".py",
   "mimetype": "text/x-python",
   "name": "python",
   "nbconvert_exporter": "python",
   "pygments_lexer": "ipython3",
   "version": "3.10.9"
  }
 },
 "nbformat": 4,
 "nbformat_minor": 5
}
