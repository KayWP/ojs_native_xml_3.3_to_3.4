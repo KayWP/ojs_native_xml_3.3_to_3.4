{
 "cells": [
  {
   "cell_type": "code",
   "execution_count": 1,
   "id": "d24bcc96",
   "metadata": {},
   "outputs": [],
   "source": [
    "import re\n",
    "import xml.etree.ElementTree as ET\n",
    "from lxml import etree\n",
    "import sys"
   ]
  },
  {
   "cell_type": "code",
   "execution_count": 2,
   "id": "96b987b3",
   "metadata": {},
   "outputs": [],
   "source": [
    "def apply_xslt_and_save(xml_string, xslt_path, output_file_path):\n",
    "    \"\"\"\n",
    "    Apply XSLT transformation to an XML string and save the result to an XML file.\n",
    "    \"\"\"\n",
    "    # Parse the XML and XSLT\n",
    "    xml_tree = etree.fromstring(xml_string)\n",
    "    xslt_tree = etree.parse(xslt_path)\n",
    "    \n",
    "    # Apply the transformation\n",
    "    transformer = etree.XSLT(xslt_tree)\n",
    "    transformed_tree = transformer(xml_tree)\n",
    "    \n",
    "    # Save the transformed XML to a file\n",
    "    with open(output_file_path, 'wb') as f:\n",
    "        f.write(etree.tostring(transformed_tree, pretty_print=True, encoding='UTF-8'))\n",
    "    \n",
    "    return f\"File saved to {output_file_path}\""
   ]
  },
  {
   "cell_type": "code",
   "execution_count": 8,
   "id": "8b75d875",
   "metadata": {},
   "outputs": [],
   "source": [
    "def main():\n",
    "    style_file = '3 to 4.xslt'\n",
    "\n",
    "    try:\n",
    "        input_file = sys.argv[1]\n",
    "    except IndexError:\n",
    "        print('Please input the input file as the first command line variable')\n",
    "        return\n",
    "    \n",
    "    if len(sys.argv) > 2:\n",
    "        style_file = sys.argv[2]\n",
    "    else:\n",
    "        print('please input a xls file')\n",
    "\n",
    "    print(f'Input file: {input_file}')\n",
    "    print(f'Style file: {style_file}')\n",
    "\n",
    "    markdown_file = Converter.apply_xslt_and_save(file_without_front, style_file, 'output.xml')"
   ]
  },
  {
   "cell_type": "code",
   "execution_count": null,
   "id": "4e0cee7e",
   "metadata": {},
   "outputs": [],
   "source": [
    "if __name__ == '__main__':\n",
    "    main()"
   ]
  },
  {
   "cell_type": "code",
   "execution_count": null,
   "id": "f1a635a0",
   "metadata": {},
   "outputs": [],
   "source": []
  }
 ],
 "metadata": {
  "kernelspec": {
   "display_name": "Python 3 (ipykernel)",
   "language": "python",
   "name": "python3"
  },
  "language_info": {
   "codemirror_mode": {
    "name": "ipython",
    "version": 3
   },
   "file_extension": ".py",
   "mimetype": "text/x-python",
   "name": "python",
   "nbconvert_exporter": "python",
   "pygments_lexer": "ipython3",
   "version": "3.10.9"
  }
 },
 "nbformat": 4,
 "nbformat_minor": 5
}
